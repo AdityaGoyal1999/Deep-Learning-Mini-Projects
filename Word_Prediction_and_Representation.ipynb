{
  "nbformat": 4,
  "nbformat_minor": 0,
  "metadata": {
    "colab": {
      "provenance": []
    },
    "kernelspec": {
      "name": "python3",
      "display_name": "Python 3"
    },
    "language_info": {
      "name": "python"
    }
  },
  "cells": [
    {
      "cell_type": "code",
      "execution_count": 1,
      "metadata": {
        "id": "pm6no8oIn6X3"
      },
      "outputs": [],
      "source": [
        "import numpy as np\n",
        "import matplotlib.pyplot as plt"
      ]
    },
    {
      "cell_type": "code",
      "source": [
        "# Data taken from https://www.kaggle.com/datasets/notlucasp/financial-news-headlines?select=guardian_headlines.csv"
      ],
      "metadata": {
        "id": "DKJp8EfLtxTa"
      },
      "execution_count": 5,
      "outputs": []
    },
    {
      "cell_type": "code",
      "source": [
        "import csv\n",
        "\n",
        "sentences = []\n",
        "with open('./guardian_headlines.csv', 'r') as f:\n",
        "    csvreader = csv.reader(f)\n",
        "    for row in csvreader:\n",
        "      words = row[1].split()\n",
        "      sentence = [word.lower() for word in words]\n",
        "      sentences.append(sentence)\n",
        "\n",
        "sentences.pop(0) # removing heading of list"
      ],
      "metadata": {
        "colab": {
          "base_uri": "https://localhost:8080/"
        },
        "id": "zl6ijq_9oOd6",
        "outputId": "1522c2f4-0661-44f6-c1ea-a94139e845c2"
      },
      "execution_count": 21,
      "outputs": [
        {
          "output_type": "execute_result",
          "data": {
            "text/plain": [
              "['headlines']"
            ]
          },
          "metadata": {},
          "execution_count": 21
        }
      ]
    },
    {
      "cell_type": "code",
      "source": [
        "print(\"Number of sentences:\", len(sentences))\n",
        "vocab = set([word for sentence in sentences for word in sentence])\n",
        "print(\"Size of vocabulary:\", len(vocab))"
      ],
      "metadata": {
        "colab": {
          "base_uri": "https://localhost:8080/"
        },
        "id": "t66oJXHlykd5",
        "outputId": "55e1f415-8c49-48f7-ca75-0f910d9a08eb"
      },
      "execution_count": 25,
      "outputs": [
        {
          "output_type": "stream",
          "name": "stdout",
          "text": [
            "Number of sentences: 17800\n",
            "Size of vocabulary: 23491\n"
          ]
        }
      ]
    },
    {
      "cell_type": "code",
      "source": [
        "sentence_lengths = [len(sentence) for sentence in sentences]\n",
        "print(\"Min length\", np.min(sentence_lengths))\n",
        "print(\"Average length\", np.mean(sentence_lengths))\n",
        "print(\"Max length\", np.max(sentence_lengths))"
      ],
      "metadata": {
        "colab": {
          "base_uri": "https://localhost:8080/"
        },
        "id": "PGshAuEA0LYg",
        "outputId": "cf4e7a75-c55b-4d8a-da8c-02d999578b61"
      },
      "execution_count": 26,
      "outputs": [
        {
          "output_type": "stream",
          "name": "stdout",
          "text": [
            "Min length 3\n",
            "Average length 11.021348314606742\n",
            "Max length 30\n"
          ]
        }
      ]
    },
    {
      "cell_type": "code",
      "source": [
        "from random import shuffle\n",
        "\n",
        "shuffle(sentences)\n",
        "\n",
        "train_data = sentences[:int(0.8 * len(sentences))]\n",
        "val_data = sentences[int(0.8 * len(sentences)):int(0.9 * len(sentences))]\n",
        "test_data = sentences[int(0.9 * len(sentences)):]\n",
        "\n",
        "print(len(train_data), len(val_data), len(test_data))"
      ],
      "metadata": {
        "colab": {
          "base_uri": "https://localhost:8080/"
        },
        "id": "lXCpEqjP0sFZ",
        "outputId": "7380c0f7-82d1-46ed-c820-45d5a3ef0ff6"
      },
      "execution_count": 29,
      "outputs": [
        {
          "output_type": "stream",
          "name": "stdout",
          "text": [
            "14240 1780 1780\n"
          ]
        }
      ]
    },
    {
      "cell_type": "code",
      "source": [],
      "metadata": {
        "id": "Q22x3Lkg1VRy"
      },
      "execution_count": null,
      "outputs": []
    }
  ]
}