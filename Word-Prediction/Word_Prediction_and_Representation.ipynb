{
  "nbformat": 4,
  "nbformat_minor": 0,
  "metadata": {
    "colab": {
      "provenance": [],
      "machine_shape": "hm",
      "gpuType": "A100"
    },
    "kernelspec": {
      "name": "python3",
      "display_name": "Python 3"
    },
    "language_info": {
      "name": "python"
    },
    "accelerator": "GPU"
  },
  "cells": [
    {
      "cell_type": "code",
      "execution_count": 2,
      "metadata": {
        "id": "pm6no8oIn6X3"
      },
      "outputs": [],
      "source": [
        "import numpy as np\n",
        "import matplotlib.pyplot as plt"
      ]
    },
    {
      "cell_type": "code",
      "source": [
        "!wget !wget https://www.cs.toronto.edu/~lczhang/413/raw_sentences.txt"
      ],
      "metadata": {
        "id": "DKJp8EfLtxTa",
        "colab": {
          "base_uri": "https://localhost:8080/"
        },
        "outputId": "d342f88b-e246-4a4f-ded9-4bbce502b1f4"
      },
      "execution_count": 3,
      "outputs": [
        {
          "output_type": "stream",
          "name": "stdout",
          "text": [
            "--2024-02-26 04:28:49--  http://!wget/\n",
            "Resolving !wget (!wget)... failed: Name or service not known.\n",
            "wget: unable to resolve host address ‘!wget’\n",
            "--2024-02-26 04:28:49--  https://www.cs.toronto.edu/~lczhang/413/raw_sentences.txt\n",
            "Resolving www.cs.toronto.edu (www.cs.toronto.edu)... 128.100.3.30\n",
            "Connecting to www.cs.toronto.edu (www.cs.toronto.edu)|128.100.3.30|:443... connected.\n",
            "HTTP request sent, awaiting response... 200 OK\n",
            "Length: 2955731 (2.8M) [text/plain]\n",
            "Saving to: ‘raw_sentences.txt’\n",
            "\n",
            "raw_sentences.txt   100%[===================>]   2.82M  1.92MB/s    in 1.5s    \n",
            "\n",
            "2024-02-26 04:28:51 (1.92 MB/s) - ‘raw_sentences.txt’ saved [2955731/2955731]\n",
            "\n",
            "FINISHED --2024-02-26 04:28:51--\n",
            "Total wall clock time: 2.5s\n",
            "Downloaded: 1 files, 2.8M in 1.5s (1.92 MB/s)\n"
          ]
        }
      ]
    },
    {
      "cell_type": "code",
      "source": [
        "sentences = []\n",
        "for line in open('./raw_sentences.txt', 'r'):\n",
        "\n",
        "      words = line.split()\n",
        "      sentence = [word.lower() for word in words]\n",
        "      sentences.append(sentence)"
      ],
      "metadata": {
        "id": "zl6ijq_9oOd6"
      },
      "execution_count": 4,
      "outputs": []
    },
    {
      "cell_type": "code",
      "source": [
        "print(\"Number of sentences:\", len(sentences))\n",
        "vocab = set([word for sentence in sentences for word in sentence])\n",
        "print(\"Size of vocabulary:\", len(vocab))"
      ],
      "metadata": {
        "colab": {
          "base_uri": "https://localhost:8080/"
        },
        "id": "t66oJXHlykd5",
        "outputId": "af216c08-5fe5-4fed-b87e-8d6b277816b8"
      },
      "execution_count": 5,
      "outputs": [
        {
          "output_type": "stream",
          "name": "stdout",
          "text": [
            "Number of sentences: 97162\n",
            "Size of vocabulary: 250\n"
          ]
        }
      ]
    },
    {
      "cell_type": "code",
      "source": [
        "sentence_lengths = [len(sentence) for sentence in sentences]\n",
        "print(\"Min length\", np.min(sentence_lengths))\n",
        "print(\"Average length\", np.mean(sentence_lengths))\n",
        "print(\"Max length\", np.max(sentence_lengths))"
      ],
      "metadata": {
        "colab": {
          "base_uri": "https://localhost:8080/"
        },
        "id": "PGshAuEA0LYg",
        "outputId": "147d1341-992d-4204-db1b-15823a8b5850"
      },
      "execution_count": 6,
      "outputs": [
        {
          "output_type": "stream",
          "name": "stdout",
          "text": [
            "Min length 4\n",
            "Average length 7.792881990901793\n",
            "Max length 43\n"
          ]
        }
      ]
    },
    {
      "cell_type": "code",
      "source": [
        "from random import shuffle\n",
        "\n",
        "shuffle(sentences)\n",
        "\n",
        "train_data = sentences[:int(0.8 * len(sentences))]\n",
        "val_data = sentences[int(0.8 * len(sentences)):int(0.9 * len(sentences))]\n",
        "test_data = sentences[int(0.9 * len(sentences)):]\n",
        "\n",
        "print(len(train_data), len(val_data), len(test_data))"
      ],
      "metadata": {
        "colab": {
          "base_uri": "https://localhost:8080/"
        },
        "id": "lXCpEqjP0sFZ",
        "outputId": "cea49cf7-200c-4096-eb30-0e1eee07e908"
      },
      "execution_count": 7,
      "outputs": [
        {
          "output_type": "stream",
          "name": "stdout",
          "text": [
            "77729 9716 9717\n"
          ]
        }
      ]
    },
    {
      "cell_type": "code",
      "source": [
        "from collections import Counter\n",
        "\n",
        "word_count = Counter([w for sentence in sentences for w in sentence])\n",
        "print(word_count.most_common(5))"
      ],
      "metadata": {
        "id": "Q22x3Lkg1VRy",
        "colab": {
          "base_uri": "https://localhost:8080/"
        },
        "outputId": "27e78079-f8be-4e9b-f400-ab6aa763340e"
      },
      "execution_count": 8,
      "outputs": [
        {
          "output_type": "stream",
          "name": "stdout",
          "text": [
            "[('.', 80974), ('it', 29200), (',', 24583), ('i', 22267), ('do', 20245)]\n"
          ]
        }
      ]
    },
    {
      "cell_type": "code",
      "source": [
        "# create vocab dictionary\n",
        "vocab = set([w for sentence in sentences for w in sentence])\n",
        "word_index = {w:i for i, w in enumerate(vocab)}"
      ],
      "metadata": {
        "id": "o7-hI7ax5U20"
      },
      "execution_count": 9,
      "outputs": []
    },
    {
      "cell_type": "code",
      "source": [
        "# convert words to indices\n",
        "\n",
        "def words_to_indices(sentences):\n",
        "\n",
        "  return [[word_index[word] for word in sentence] for sentence in sentences]\n",
        "\n",
        "def generate_4grams(indices):\n",
        "\n",
        "  four_grams = []\n",
        "  for sentence in indices:\n",
        "    for i in range(len(sentence) - 4):\n",
        "      four_grams.append(sentence[i:i+4])\n",
        "\n",
        "  return four_grams\n",
        "\n",
        "def compile_data(sentences):\n",
        "  indices = words_to_indices(sentences)\n",
        "  four_grams = generate_4grams(indices)\n",
        "  return np.array(four_grams)\n",
        "\n",
        "grams = compile_data(train_data)\n",
        "val_grams = compile_data(val_data)\n",
        "print(grams.shape)"
      ],
      "metadata": {
        "colab": {
          "base_uri": "https://localhost:8080/"
        },
        "id": "S5QqWto45xaI",
        "outputId": "8a1e991c-9de0-474b-cbad-7d4374b4d83b"
      },
      "execution_count": 10,
      "outputs": [
        {
          "output_type": "stream",
          "name": "stdout",
          "text": [
            "(294915, 4)\n"
          ]
        }
      ]
    },
    {
      "cell_type": "code",
      "source": [
        "# one hot encoding the input\n",
        "\n",
        "def onehot_encoder(four_grams, vocab_size):\n",
        "  I = np.eye(vocab_size)\n",
        "  return I[four_grams]\n",
        "\n",
        "print(onehot_encoder(grams, len(vocab)).shape)"
      ],
      "metadata": {
        "colab": {
          "base_uri": "https://localhost:8080/"
        },
        "id": "34O4s9319Vqq",
        "outputId": "0f2dabf2-aac4-41d3-eb3d-dc3a42cb5432"
      },
      "execution_count": 11,
      "outputs": [
        {
          "output_type": "stream",
          "name": "stdout",
          "text": [
            "(294915, 4, 250)\n"
          ]
        }
      ]
    },
    {
      "cell_type": "code",
      "source": [
        "def get_batch(data, range_min, range_max, onehot=True):\n",
        "\n",
        "  X = data[range_min:range_max, :3]\n",
        "  t = data[range_min:range_max, 3]\n",
        "\n",
        "  X = onehot_encoder(X, len(vocab))\n",
        "\n",
        "  X = X.reshape(-1, 3 * len(vocab))\n",
        "\n",
        "  if onehot:\n",
        "    t = onehot_encoder(t, len(vocab))\n",
        "    t = t.reshape(-1, len(vocab))\n",
        "\n",
        "  return X, t\n",
        "\n",
        "# test the data out\n",
        "\n",
        "grams = compile_data(train_data)\n",
        "X, t = get_batch(grams, 0, 10, onehot=False)\n",
        "print(X.shape, t.shape)\n",
        "\n",
        "# check if indices are at the right position\n",
        "for i in range(3):\n",
        "  index_pos = grams[0][i]\n",
        "  print(X[0][index_pos + ((len(vocab) * i) - 1)]) # should be 0\n",
        "  print(X[0][index_pos + (len(vocab) * i)]) # should 1\n",
        "  print(X[0][index_pos + ((len(vocab) * i) + 1)]) # should be 0"
      ],
      "metadata": {
        "colab": {
          "base_uri": "https://localhost:8080/"
        },
        "id": "q10KQeKZ-4zy",
        "outputId": "f6d8a319-58e3-47f3-86d2-1ca4713526b7"
      },
      "execution_count": 12,
      "outputs": [
        {
          "output_type": "stream",
          "name": "stdout",
          "text": [
            "(10, 750) (10,)\n",
            "0.0\n",
            "1.0\n",
            "0.0\n",
            "0.0\n",
            "1.0\n",
            "0.0\n",
            "0.0\n",
            "1.0\n",
            "0.0\n"
          ]
        }
      ]
    },
    {
      "cell_type": "code",
      "source": [
        "def accuracy(model, data, batch=100, max_N=10000):\n",
        "  num_correct = 0\n",
        "  num_pred = 0\n",
        "\n",
        "  for i in range(0, data.shape[0], batch):\n",
        "    X, t = get_batch(data, i, i+1, onehot=False)\n",
        "    z = model.forward(X)\n",
        "    pred = np.argmax(z, axis=1)\n",
        "\n",
        "    num_correct += np.sum(pred == t)\n",
        "    num_pred += t.shape[0]\n",
        "\n",
        "    if num_pred >= max_N:\n",
        "      break\n",
        "\n",
        "  return num_correct / num_pred"
      ],
      "metadata": {
        "id": "gMRuLTJNPKc2"
      },
      "execution_count": 13,
      "outputs": []
    },
    {
      "cell_type": "code",
      "source": [
        "def softmax(x):\n",
        "\n",
        "  x = x.T\n",
        "  exps = np.exp(x - x.max(axis=0))\n",
        "  probs = exps / np.sum(exps, axis=0)\n",
        "  return probs.T"
      ],
      "metadata": {
        "id": "FlaUR8TnJ3az"
      },
      "execution_count": 14,
      "outputs": []
    },
    {
      "cell_type": "code",
      "source": [
        "class NNModel:\n",
        "\n",
        "  def __init__(self, vocab_size, emb_size, num_hidden):\n",
        "\n",
        "    self.vocab_size = vocab_size\n",
        "    self.emb_size = emb_size\n",
        "    self.num_hidden = num_hidden\n",
        "\n",
        "    self.Ww = np.zeros([vocab_size, emb_size])\n",
        "    # self.bw = np.zeros([emb_size])\n",
        "\n",
        "    self.W1 = np.zeros([emb_size * 3, num_hidden])\n",
        "    self.b1 = np.zeros([num_hidden])\n",
        "\n",
        "    self.W2 = np.zeros([num_hidden, vocab_size])\n",
        "    self.b2 = np.zeros([vocab_size])\n",
        "\n",
        "    self.initialize_weights()\n",
        "\n",
        "    self.cleanup()\n",
        "\n",
        "  def initialize_weights(self):\n",
        "\n",
        "    self.Ww = np.random.normal(0, 2/(self.vocab_size), self.Ww.shape)\n",
        "\n",
        "    self.W1 = np.random.normal(0, 2/(3*self.emb_size), self.W1.shape)\n",
        "    self.b1 = np.random.normal(0, 2/(3*self.emb_size), self.b1.shape)\n",
        "\n",
        "    self.W2 = np.random.normal(0, 2/(self.num_hidden), self.W2.shape)\n",
        "    self.b2 = np.random.normal(0, 2/(self.num_hidden), self.b2.shape)\n",
        "\n",
        "  def cleanup(self):\n",
        "\n",
        "    self.N = None\n",
        "    self.xa = None\n",
        "    self.xb = None\n",
        "    self.xc = None\n",
        "    self.va = None\n",
        "    self.vb = None\n",
        "    self.vc = None\n",
        "    self.v = None\n",
        "    self.m = None\n",
        "    self.h = None\n",
        "    self.z = None\n",
        "    self.y = None\n",
        "\n",
        "    self.z_bar = None\n",
        "    self.W2_bar = None\n",
        "    self.b2_bar = None\n",
        "    self.h_bar = None\n",
        "    self.m_bar = None\n",
        "    self.W1_bar = None\n",
        "    self.b1_bar = None\n",
        "    self.v_bar = None\n",
        "    self.va_bar = None\n",
        "    self.vb_bar = None\n",
        "    self.vc_bar = None\n",
        "    self.Ww_bar = None\n",
        "\n",
        "\n",
        "  def forward(self, X):\n",
        "\n",
        "    return do_forward_pass(self, X)\n",
        "\n",
        "  def backward(self, t):\n",
        "\n",
        "    return do_backward_pass(self, t)\n",
        "\n",
        "  def loss(self, t):\n",
        "\n",
        "    # Cross Entropy Loss\n",
        "    pred = np.sum(-t * np.log(self.y)) / t.shape[0]\n",
        "    return pred\n",
        "\n",
        "  def update(self, alpha):\n",
        "\n",
        "    self.Ww = self.Ww - alpha * self.Ww_bar\n",
        "    self.W1 = self.W1 - alpha * self.W1_bar\n",
        "    self.b1 = self.b1 - alpha * self.b1_bar\n",
        "    self.W2 = self.W2 - alpha * self.W2_bar\n",
        "    self.b2 = self.b2 - alpha * self.b2_bar"
      ],
      "metadata": {
        "id": "VyXp1PwDQWAg"
      },
      "execution_count": 15,
      "outputs": []
    },
    {
      "cell_type": "code",
      "source": [
        "def do_forward_pass(model, X):\n",
        "\n",
        "  model.N = X.shape[0]\n",
        "  model.X = X\n",
        "\n",
        "  model.xa = X[:, 0:model.vocab_size]\n",
        "  model.xb = X[:, model.vocab_size:2*model.vocab_size]\n",
        "  model.xc = X[:, 2*model.vocab_size:]\n",
        "\n",
        "  # compute embeddings\n",
        "  model.va = np.matmul(model.xa, model.Ww)\n",
        "  model.vb = np.matmul(model.xb, model.Ww)\n",
        "  model.vc = np.matmul(model.xc, model.Ww)\n",
        "  model.v = np.concatenate([model.va, model.vb, model.vc], axis=1)\n",
        "\n",
        "  # print(model.v.shape)\n",
        "\n",
        "  # compute pre-hidden layer input\n",
        "  model.m = np.matmul(model.v, model.W1) + model.b1\n",
        "\n",
        "  # compute post hidden layer - ReLU activation\n",
        "  model.h = np.maximum(0, model.m)\n",
        "\n",
        "  # compute logits\n",
        "  model.z = np.matmul(model.h, model.W2) + model.b2\n",
        "\n",
        "  # compute class probabilities\n",
        "  model.y = softmax(model.z)\n",
        "\n",
        "  return model.z"
      ],
      "metadata": {
        "id": "Il8QLyk7EdNa"
      },
      "execution_count": 16,
      "outputs": []
    },
    {
      "cell_type": "code",
      "source": [
        "x, t = get_batch(grams, 0, 10)\n",
        "model = NNModel(len(vocab), 250, 100)\n",
        "y = model.forward(x)\n",
        "\n",
        "print(model.va.shape, model.vb.shape, model.vc.shape)\n",
        "print(model.v.shape)\n",
        "print(model.z.shape)\n",
        "print(model.z.shape)"
      ],
      "metadata": {
        "colab": {
          "base_uri": "https://localhost:8080/"
        },
        "id": "cl9blSc2KnH6",
        "outputId": "cac23579-5f3c-4fa6-9022-de5e55a9bbec"
      },
      "execution_count": 17,
      "outputs": [
        {
          "output_type": "stream",
          "name": "stdout",
          "text": [
            "(10, 250) (10, 250) (10, 250)\n",
            "(10, 750)\n",
            "(10, 250)\n",
            "(10, 250)\n"
          ]
        }
      ]
    },
    {
      "cell_type": "code",
      "source": [
        "print(accuracy(model, grams))"
      ],
      "metadata": {
        "colab": {
          "base_uri": "https://localhost:8080/"
        },
        "id": "UubbLEljM7iQ",
        "outputId": "b6699913-ab2f-4386-9d5c-8f6db8f480b1"
      },
      "execution_count": 18,
      "outputs": [
        {
          "output_type": "stream",
          "name": "stdout",
          "text": [
            "0.00711864406779661\n"
          ]
        }
      ]
    },
    {
      "cell_type": "code",
      "source": [
        "def do_backward_pass(model, t):\n",
        "  \"\"\"\n",
        "  Compute the backward pass, given the ground-truth, one-hot targets.\n",
        "\n",
        "  The quantities computed by `model.forward()` are accessible to this function.\n",
        "\n",
        "  The member variables of this function will be used in the 'update()' function.\n",
        "\n",
        "  Parameters:\n",
        "      `model` - An instance of NNModel\n",
        "      `t` - A numpy array of shape (N, model.num_classes)\n",
        "  \"\"\"\n",
        "\n",
        "  model.z_bar = (model.y - t) / model.N\n",
        "  model.W2_bar = np.dot(model.h.T, model.z_bar)\n",
        "  model.b2_bar = np.dot(np.ones(model.N).T, model.z_bar)\n",
        "  model.h_bar = np.matmul(model.z_bar, model.W2.T)\n",
        "  model.m_bar = model.h_bar * (model.m > 0)\n",
        "\n",
        "  model.W1_bar = np.dot(model.v.T, model.m_bar)\n",
        "  model.b1_bar = np.dot(np.ones(model.N).T, model.m_bar)\n",
        "\n",
        "\n",
        "  model.v_bar = np.matmul(model.m_bar, model.W1.T)\n",
        "\n",
        "\n",
        "  model.va_bar = model.v_bar[:, 0:model.vocab_size]\n",
        "  model.vb_bar = model.v_bar[:, model.vocab_size:2*model.vocab_size]\n",
        "  model.vc_bar = model.v_bar[:, 2*model.vocab_size:]\n",
        "\n",
        "  model.Ww_bar = np.dot(model.xa.T, model.va_bar) + np.dot(model.xb.T, model.vb_bar) + np.dot(model.xc.T, model.vc_bar)\n",
        "\n",
        "  return model"
      ],
      "metadata": {
        "id": "PxpDyscJtB6q"
      },
      "execution_count": 22,
      "outputs": []
    },
    {
      "cell_type": "code",
      "source": [
        "x_, t_ = get_batch(grams, 0, 8)\n",
        "model = NNModel(len(vocab), 250, 100)\n",
        "\n",
        "model.forward(x_)\n",
        "model.backward(t_)\n",
        "model.update(0.001)"
      ],
      "metadata": {
        "colab": {
          "base_uri": "https://localhost:8080/"
        },
        "id": "r1i3sUuPudkP",
        "outputId": "c9190a00-128f-4b22-c7d1-319d61a4229e"
      },
      "execution_count": 20,
      "outputs": [
        {
          "output_type": "stream",
          "name": "stdout",
          "text": [
            "(8, 100) (100, 750)\n",
            "(8, 750)\n"
          ]
        }
      ]
    },
    {
      "cell_type": "code",
      "source": [
        "def train_model(model, train_data=grams, validation_data=val_grams, batch_size=100, learning_rate=0.05, max_iters=20000, plot_every=1000):\n",
        "    \"\"\"\n",
        "    Use gradient descent to train the numpy model on the dataset train4grams.\n",
        "    \"\"\"\n",
        "    iters, train_loss, train_acc, val_acc = [], [], [], [] # for the training curve\n",
        "    iter_count = 0  # count the number of iterations\n",
        "    try:\n",
        "      while iter_count < max_iters:\n",
        "          # shuffle the training data, and break early if we don't have\n",
        "          # enough data to remaining in the batch\n",
        "          np.random.shuffle(train_data)\n",
        "          for i in range(0, train_data.shape[0], batch_size):\n",
        "              if (i + batch_size) > train_data.shape[0]:\n",
        "                  break\n",
        "\n",
        "              xs, ts = get_batch(train_data, i, i + batch_size, onehot=True)\n",
        "              model.cleanup() # start with fresh gradients\n",
        "\n",
        "              ys = model.forward(xs)\n",
        "              model.backward(ts)\n",
        "\n",
        "              model.update(learning_rate)\n",
        "\n",
        "              # increment the iteration count\n",
        "              iter_count += 1\n",
        "\n",
        "\n",
        "              # collect stats for model's learning\n",
        "              if (iter_count % plot_every == 0):\n",
        "                  iters.append(iter_count)\n",
        "                  train_loss.append(model.loss(ts))\n",
        "                  train_acc.append(accuracy(model, train_data))\n",
        "                  val_acc.append(accuracy(model, validation_data))\n",
        "                  # model.cleanup()\n",
        "                  print(f\"Iter {iter_count}. Acc [val:{val_acc[-1]}, train:{train_acc[-1]}] Loss {train_loss[-1]}]\")\n",
        "\n",
        "              if iter_count >= max_iters:\n",
        "                  break\n",
        "\n",
        "    finally:\n",
        "      plt.figure()\n",
        "      plt.plot(iters[:len(train_loss)], train_loss)\n",
        "      plt.title(\"Loss over iterations\")\n",
        "      plt.xlabel(\"Iterations\")\n",
        "      plt.ylabel(\"Loss\")\n",
        "\n",
        "      plt.figure()\n",
        "      plt.plot(iters[:len(train_acc)], train_acc)\n",
        "      plt.plot(iters[:len(val_acc)], val_acc)\n",
        "      plt.title(\"Accuracy over iterations\")\n",
        "      plt.xlabel(\"Iterations\")\n",
        "      plt.ylabel(\"Accuracy\")\n",
        "      plt.legend([\"Train\", \"Validation\"])\n",
        "\n",
        "\n"
      ],
      "metadata": {
        "colab": {
          "base_uri": "https://localhost:8080/",
          "height": 1000
        },
        "id": "PQFzYeNmSmVN",
        "outputId": "73bbe599-7717-4e91-a1d9-ef415a539083"
      },
      "execution_count": 33,
      "outputs": [
        {
          "output_type": "stream",
          "name": "stdout",
          "text": [
            "Iter 1000. Acc [val:0.04632152588555858, train:0.04711864406779661] Loss 4.844107858111808]\n",
            "Iter 2000. Acc [val:0.04632152588555858, train:0.04711864406779661] Loss 4.784819535231652]\n",
            "Iter 3000. Acc [val:0.04632152588555858, train:0.04271186440677966] Loss 4.799271955109264]\n",
            "Iter 4000. Acc [val:0.04632152588555858, train:0.04271186440677966] Loss 4.737072183396049]\n",
            "Iter 5000. Acc [val:0.04632152588555858, train:0.04271186440677966] Loss 4.690316797469802]\n",
            "Iter 6000. Acc [val:0.043596730245231606, train:0.04305084745762712] Loss 4.652495705282858]\n",
            "Iter 7000. Acc [val:0.08991825613079019, train:0.08949152542372882] Loss 4.757155247708229]\n",
            "Iter 8000. Acc [val:0.09809264305177112, train:0.10067796610169491] Loss 4.5604626837231645]\n",
            "Iter 9000. Acc [val:0.10899182561307902, train:0.10372881355932204] Loss 4.338677968878169]\n",
            "Iter 10000. Acc [val:0.12534059945504086, train:0.13457627118644067] Loss 4.2061310488103025]\n",
            "Iter 11000. Acc [val:0.1362397820163488, train:0.14915254237288136] Loss 4.12387130356176]\n",
            "Iter 12000. Acc [val:0.1307901907356948, train:0.1606779661016949] Loss 3.9706732915901273]\n",
            "Iter 13000. Acc [val:0.14713896457765668, train:0.17661016949152541] Loss 3.6979284999899646]\n",
            "Iter 14000. Acc [val:0.1553133514986376, train:0.1752542372881356] Loss 3.4814220178831787]\n",
            "Iter 15000. Acc [val:0.1553133514986376, train:0.1854237288135593] Loss 3.8530978075505398]\n",
            "Iter 16000. Acc [val:0.16348773841961853, train:0.19559322033898305] Loss 3.708964775990475]\n",
            "Iter 17000. Acc [val:0.1771117166212534, train:0.2030508474576271] Loss 3.5806100791148174]\n",
            "Iter 18000. Acc [val:0.18256130790190736, train:0.2016949152542373] Loss 3.4913520939963107]\n",
            "Iter 19000. Acc [val:0.18256130790190736, train:0.20440677966101695] Loss 3.7904344060745165]\n",
            "Iter 20000. Acc [val:0.18528610354223432, train:0.211864406779661] Loss 3.634243654687461]\n"
          ]
        },
        {
          "output_type": "display_data",
          "data": {
            "text/plain": [
              "<Figure size 640x480 with 1 Axes>"
            ],
            "image/png": "[encoded data removed]"
          },
          "metadata": {}
        },
        {
          "output_type": "display_data",
          "data": {
            "text/plain": [
              "<Figure size 640x480 with 1 Axes>"
            ],
            "image/png": "[encoded data removed]"
          },
          "metadata": {}
        }
      ]
    },
    {
      "cell_type": "code",
      "source": [
        "!wget https://www.cs.toronto.edu/~lczhang/413/sentence_pretrained.pk"
      ],
      "metadata": {
        "colab": {
          "base_uri": "https://localhost:8080/"
        },
        "id": "JTbfxPRUxlbz",
        "outputId": "c889539f-ce65-4f15-ea22-0ce2d2cc4095"
      },
      "execution_count": 35,
      "outputs": [
        {
          "output_type": "stream",
          "name": "stdout",
          "text": [
            "--2024-02-26 04:58:29--  https://www.cs.toronto.edu/~lczhang/413/sentence_pretrained.pk\n",
            "Resolving www.cs.toronto.edu (www.cs.toronto.edu)... 128.100.3.30\n",
            "Connecting to www.cs.toronto.edu (www.cs.toronto.edu)|128.100.3.30|:443... connected.\n",
            "HTTP request sent, awaiting response... 200 OK\n",
            "Length: 863119 (843K) [application/x-tex-pk]\n",
            "Saving to: ‘sentence_pretrained.pk’\n",
            "\n",
            "sentence_pretrained 100%[===================>] 842.89K   744KB/s    in 1.1s    \n",
            "\n",
            "2024-02-26 04:58:31 (744 KB/s) - ‘sentence_pretrained.pk’ saved [863119/863119]\n",
            "\n"
          ]
        }
      ]
    },
    {
      "cell_type": "code",
      "source": [
        "test_grams = compile_data(test_data)\n",
        "accuracy(model, test_grams)"
      ],
      "metadata": {
        "colab": {
          "base_uri": "https://localhost:8080/"
        },
        "id": "FyON72xcvfNH",
        "outputId": "a14a7cfd-2b85-4760-9774-b76a7bc5ae6b"
      },
      "execution_count": 37,
      "outputs": [
        {
          "output_type": "execute_result",
          "data": {
            "text/plain": [
              "0.1972972972972973"
            ]
          },
          "metadata": {},
          "execution_count": 37
        }
      ]
    },
    {
      "cell_type": "markdown",
      "source": [
        "There's still a lot of scope for improvement of this model. Next, I can look into hyper parameters tuning to increase the accuracy\n"
      ],
      "metadata": {
        "id": "wz-xZ4xmvTZZ"
      }
    }
  ]
}